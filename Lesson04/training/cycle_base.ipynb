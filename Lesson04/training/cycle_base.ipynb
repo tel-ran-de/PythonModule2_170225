{
 "cells": [
  {
   "cell_type": "markdown",
   "metadata": {
    "id": "xb-bU8ObExEx"
   },
   "source": [
    "## Цикл while"
   ]
  },
  {
   "cell_type": "markdown",
   "metadata": {
    "id": "1OY4c76AExEy"
   },
   "source": [
    "### Выполнение цикла n раз"
   ]
  },
  {
   "cell_type": "code",
   "metadata": {
    "pycharm": {
     "name": "#%%\n"
    },
    "id": "RHyUbnFQExEz",
    "colab": {
     "base_uri": "https://localhost:8080/"
    },
    "executionInfo": {
     "status": "ok",
     "timestamp": 1664889359439,
     "user_tz": -180,
     "elapsed": 643,
     "user": {
      "displayName": "Евгений Юрченко",
      "userId": "04330354856914409701"
     }
    },
    "outputId": "97efc600-0ed2-4e9a-eb61-317d3f2dea14",
    "ExecuteTime": {
     "end_time": "2025-03-17T16:23:05.490941Z",
     "start_time": "2025-03-17T16:23:05.485843Z"
    }
   },
   "source": [
    "n = 3      # сколько раз цикл нужно выполнить\n",
    "count = 0  # Сколько раз цикл выполнился\n",
    "while count < n:\n",
    "    print(\"count =\", count)\n",
    "    count += 1"
   ],
   "outputs": [
    {
     "name": "stdout",
     "output_type": "stream",
     "text": [
      "count = 0\n",
      "count = 1\n",
      "count = 2\n"
     ]
    }
   ],
   "execution_count": 1
  },
  {
   "cell_type": "markdown",
   "metadata": {
    "id": "-VpKMo7sExE6"
   },
   "source": [
    "### Вывод чисел в диапазоне [a, b]"
   ]
  },
  {
   "cell_type": "code",
   "metadata": {
    "pycharm": {
     "name": "#%%\n"
    },
    "id": "CHwDI5AGExE6",
    "colab": {
     "base_uri": "https://localhost:8080/"
    },
    "executionInfo": {
     "status": "ok",
     "timestamp": 1664888584055,
     "user_tz": -180,
     "elapsed": 394,
     "user": {
      "displayName": "Евгений Юрченко",
      "userId": "04330354856914409701"
     }
    },
    "outputId": "f4b78575-e78e-4536-a5d4-d424d72a5911",
    "ExecuteTime": {
     "end_time": "2025-03-17T16:23:51.025666Z",
     "start_time": "2025-03-17T16:23:51.020431Z"
    }
   },
   "source": [
    "a = 2\n",
    "b = 7\n",
    "while a <= b:\n",
    "    print(\"a =\", a)\n",
    "    a += 1"
   ],
   "outputs": [
    {
     "name": "stdout",
     "output_type": "stream",
     "text": [
      "a = 2\n",
      "a = 3\n",
      "a = 4\n",
      "a = 5\n",
      "a = 6\n",
      "a = 7\n"
     ]
    }
   ],
   "execution_count": 2
  },
  {
   "cell_type": "markdown",
   "metadata": {
    "pycharm": {
     "name": "#%% md\n"
    },
    "id": "09stgTkXExE7"
   },
   "source": [
    "### Вывод чисел кратных трем в диапазоне [a, b]"
   ]
  },
  {
   "cell_type": "code",
   "metadata": {
    "pycharm": {
     "name": "#%%\n"
    },
    "id": "L7MqnOp0ExE7",
    "colab": {
     "base_uri": "https://localhost:8080/"
    },
    "executionInfo": {
     "status": "ok",
     "timestamp": 1664888856966,
     "user_tz": -180,
     "elapsed": 5,
     "user": {
      "displayName": "Евгений Юрченко",
      "userId": "04330354856914409701"
     }
    },
    "outputId": "1269032c-0704-4999-fae5-ce7d05aec804",
    "ExecuteTime": {
     "end_time": "2025-03-17T16:23:54.324680Z",
     "start_time": "2025-03-17T16:23:54.318855Z"
    }
   },
   "source": [
    "a = 2\n",
    "b = 7\n",
    "while a <= b:\n",
    "    if a % 3 == 0: # Если число кратно трем\n",
    "        print(a)  # то выводим его\n",
    "    a += 1\n"
   ],
   "outputs": [
    {
     "name": "stdout",
     "output_type": "stream",
     "text": [
      "3\n",
      "6\n"
     ]
    }
   ],
   "execution_count": 3
  },
  {
   "cell_type": "markdown",
   "metadata": {
    "id": "QLEhIpg2ExE8"
   },
   "source": [
    "### Нахождение количества чисел кратных трем в диапазоне [a, b]"
   ]
  },
  {
   "cell_type": "code",
   "execution_count": null,
   "metadata": {
    "pycharm": {
     "name": "#%%\n"
    },
    "id": "FAVjv9J_ExE9",
    "colab": {
     "base_uri": "https://localhost:8080/"
    },
    "executionInfo": {
     "status": "ok",
     "timestamp": 1664888891520,
     "user_tz": -180,
     "elapsed": 882,
     "user": {
      "displayName": "Евгений Юрченко",
      "userId": "04330354856914409701"
     }
    },
    "outputId": "8ef63a2c-dd35-4f58-eaf6-dc0395c7af68"
   },
   "outputs": [
    {
     "output_type": "stream",
     "name": "stdout",
     "text": [
      "Количество чисел кратных трем = 2\n"
     ]
    }
   ],
   "source": [
    "a = 1\n",
    "b = 8\n",
    "count = 0  # Счетчик чисел кратных трем\n",
    "while a <= b:\n",
    "    if a % 3 == 0: # Если число кратно трем\n",
    "        count += 1  # то увеличиваем счетчик на единицу\n",
    "    a += 1\n",
    "\n",
    "print(\"Количество чисел кратных трем =\", count)"
   ]
  },
  {
   "cell_type": "markdown",
   "metadata": {
    "pycharm": {
     "name": "#%% md\n"
    },
    "id": "jSIq6DohExE9"
   },
   "source": [
    "### Нахождение суммы чисел в диапазоне [a, b]"
   ]
  },
  {
   "cell_type": "code",
   "execution_count": null,
   "metadata": {
    "pycharm": {
     "name": "#%%\n"
    },
    "id": "CBy4pWQ0ExE-",
    "colab": {
     "base_uri": "https://localhost:8080/"
    },
    "executionInfo": {
     "status": "ok",
     "timestamp": 1664889175412,
     "user_tz": -180,
     "elapsed": 636,
     "user": {
      "displayName": "Евгений Юрченко",
      "userId": "04330354856914409701"
     }
    },
    "outputId": "9dc0f8bb-1c7b-4702-e6a0-2f07c9066e73"
   },
   "outputs": [
    {
     "output_type": "stream",
     "name": "stdout",
     "text": [
      "Сумма чисел = 12\n"
     ]
    }
   ],
   "source": [
    "a = 1\n",
    "b = 8\n",
    "total = 0  # Переменная для накопления суммы\n",
    "while a <= b:\n",
    "    total += a\n",
    "    a += 3\n",
    "\n",
    "print(\"Сумма чисел =\", total) # Out: 12"
   ]
  },
  {
   "cell_type": "markdown",
   "metadata": {
    "id": "AEYe7sUdExE-"
   },
   "source": [
    "### Выполнение цикла пока не будет введено нужное значение"
   ]
  },
  {
   "cell_type": "code",
   "metadata": {
    "pycharm": {
     "name": "#%%\n"
    },
    "id": "SAb6VQk6ExE_",
    "ExecuteTime": {
     "end_time": "2025-03-17T16:24:19.870878Z",
     "start_time": "2025-03-17T16:24:03.018815Z"
    }
   },
   "source": [
    "needed_value = \"stop\"\n",
    "print(\"Для окончания программы введите\", needed_value)\n",
    "input_value = \"\"\n",
    "\n",
    "while needed_value != input_value:\n",
    "    input_value = input(\"value: \")\n",
    "    print(\"Вы ввели число:\", input_value)"
   ],
   "outputs": [
    {
     "name": "stdout",
     "output_type": "stream",
     "text": [
      "Для окончания программы введите stop\n",
      "Вы ввели число: 1\n",
      "Вы ввели число: stop\n"
     ]
    }
   ],
   "execution_count": 4
  }
 ],
 "metadata": {
  "kernelspec": {
   "display_name": "Python 3 (ipykernel)",
   "language": "python",
   "name": "python3"
  },
  "language_info": {
   "codemirror_mode": {
    "name": "ipython",
    "version": 3
   },
   "file_extension": ".py",
   "mimetype": "text/x-python",
   "name": "python",
   "nbconvert_exporter": "python",
   "pygments_lexer": "ipython3",
   "version": "3.10.4"
  },
  "colab": {
   "provenance": [
    {
     "file_id": "13C9mbcC1llZpL56RSICn5p6L8O9DdMUT",
     "timestamp": 1664821954993
    }
   ],
   "collapsed_sections": []
  }
 },
 "nbformat": 4,
 "nbformat_minor": 0
}
