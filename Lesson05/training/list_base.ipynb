{
 "nbformat": 4,
 "nbformat_minor": 0,
 "metadata": {
  "colab": {
   "provenance": [],
   "collapsed_sections": [],
   "authorship_tag": "ABX9TyN5QZ/1Xi5DdtHxTfDk3oUg"
  },
  "kernelspec": {
   "name": "python3",
   "display_name": "Python 3 (ipykernel)",
   "language": "python"
  },
  "language_info": {
   "name": "python"
  }
 },
 "cells": [
  {
   "cell_type": "markdown",
   "source": [
    "# Списки\n",
    "\n",
    "**Список** - изменяемая последовательность, элементами которой могут быть любые типы данных"
   ],
   "metadata": {
    "id": "_CKBdEX5golx"
   }
  },
  {
   "cell_type": "markdown",
   "source": [
    "## Создание списков\n"
   ],
   "metadata": {
    "id": "yO_QbZvahDNo"
   }
  },
  {
   "cell_type": "code",
   "metadata": {
    "id": "xDoLL3eogndX",
    "ExecuteTime": {
     "end_time": "2025-03-17T16:27:06.256196Z",
     "start_time": "2025-03-17T16:27:06.252413Z"
    }
   },
   "source": [
    "empty_list = []  # Пустой писок\n",
    "numbers = [2, 4, 6, 0, 12]  # список с int'ами\n",
    "names = [\"Иван\", \"Алексей\", \"Анна\"]  # список строк\n",
    "any_types = [-4, 2.5, \"hello\", \"12\", 0]  # список с произвольными значениями"
   ],
   "outputs": [],
   "execution_count": 4
  },
  {
   "cell_type": "markdown",
   "source": [
    "Встроенная функция len() позволяет узнать количество элементов в списке."
   ],
   "metadata": {
    "id": "0EJA3DrC3Yt2"
   }
  },
  {
   "cell_type": "code",
   "source": [
    "numbers = [2, 4, 6, 0, 12]\n",
    "print(f\"В списке {numbers} {len(numbers)} элементов\")"
   ],
   "metadata": {
    "colab": {
     "base_uri": "https://localhost:8080/"
    },
    "id": "FW1a7tVm3hJ-",
    "executionInfo": {
     "status": "ok",
     "timestamp": 1656714508461,
     "user_tz": -180,
     "elapsed": 7,
     "user": {
      "displayName": "Евгений Юрченко",
      "userId": "04330354856914409701"
     }
    },
    "outputId": "e5359561-6793-4dce-9332-9d4a86813cab",
    "ExecuteTime": {
     "end_time": "2025-03-17T16:27:02.571014Z",
     "start_time": "2025-03-17T16:27:02.566982Z"
    }
   },
   "outputs": [
    {
     "name": "stdout",
     "output_type": "stream",
     "text": [
      "В списке [2, 4, 6, 0, 12] 5 элементов\n"
     ]
    }
   ],
   "execution_count": 3
  },
  {
   "cell_type": "markdown",
   "source": [
    "## Обращение к элементам по индексам"
   ],
   "metadata": {
    "id": "L2wGUCmbmfX0"
   }
  },
  {
   "cell_type": "markdown",
   "source": [
    "Все элементы имеют порядковые номера - индексы. Индексация начинается с нуля\n",
    "\n",
    "![list01.png](https://gcdnb.pbrd.co/images/p4ppjILZq7u4.png?o=1)"
   ],
   "metadata": {
    "id": "_xWCG5XriBJN"
   }
  },
  {
   "cell_type": "code",
   "source": [
    "# index:     0        1         2      3\n",
    "names =  [\"Иван\", \"Алексей\", \"Анна\", \"Петр\"]\n",
    "# n-index:  -4       -3        -2     -1\n",
    "print(\"names[0] -->\", names[0])\n",
    "print(\"names[2] -->\", names[2])\n",
    "print(\"names[-4] -->\", names[-4])"
   ],
   "metadata": {
    "id": "I2F9k4S0iEAB",
    "colab": {
     "base_uri": "https://localhost:8080/"
    },
    "executionInfo": {
     "status": "ok",
     "timestamp": 1664978296411,
     "user_tz": -180,
     "elapsed": 781,
     "user": {
      "displayName": "Евгений Юрченко",
      "userId": "04330354856914409701"
     }
    },
    "outputId": "ea50fb0b-65f7-4637-ff74-24ff35aec2ea",
    "ExecuteTime": {
     "end_time": "2025-03-17T16:26:59.922076Z",
     "start_time": "2025-03-17T16:26:59.918697Z"
    }
   },
   "outputs": [
    {
     "name": "stdout",
     "output_type": "stream",
     "text": [
      "names[0] --> Иван\n",
      "names[2] --> Анна\n",
      "names[-4] --> Иван\n"
     ]
    }
   ],
   "execution_count": 2
  },
  {
   "cell_type": "markdown",
   "source": [
    "### Задание"
   ],
   "metadata": {
    "id": "kG0hO_nqnZZc"
   }
  },
  {
   "cell_type": "code",
   "source": [
    "fruits = [\"яблоко\", \"банан\", \"апельсин\", \"арбуз\"]\n",
    "# TODO: Выведите первый и последний элемент списка\n"
   ],
   "metadata": {
    "id": "kr2l6NMVnuQ7",
    "ExecuteTime": {
     "end_time": "2025-03-17T16:27:58.145310Z",
     "start_time": "2025-03-17T16:27:58.140836Z"
    }
   },
   "outputs": [],
   "execution_count": 5
  },
  {
   "cell_type": "markdown",
   "source": [
    "## Изменение элементов по индексам"
   ],
   "metadata": {
    "id": "LvorPIdAxcJy"
   }
  },
  {
   "cell_type": "markdown",
   "source": [
    "Т.к. список **изменяемая** последовательность, элементы списка можно заменять на другие"
   ],
   "metadata": {
    "id": "uj9vUUIMxhu1"
   }
  },
  {
   "cell_type": "code",
   "source": [
    "names =  [\"Иван\", \"Алексей\", \"Анна\", \"Петр\"]\n",
    "print(\"До изменения \\t\", names)\n",
    "names[1] = \"Кирилл\"  # Заменяем элемент с индексом 1\n",
    "print(\"После изменения \", names)"
   ],
   "metadata": {
    "colab": {
     "base_uri": "https://localhost:8080/"
    },
    "id": "j7K7Aztcxp2Z",
    "executionInfo": {
     "status": "ok",
     "timestamp": 1656714525023,
     "user_tz": -180,
     "elapsed": 230,
     "user": {
      "displayName": "Евгений Юрченко",
      "userId": "04330354856914409701"
     }
    },
    "outputId": "51d11934-b808-4aa4-8676-43ca48ba19c9"
   },
   "execution_count": null,
   "outputs": [
    {
     "output_type": "stream",
     "name": "stdout",
     "text": [
      "До изменения \t ['Иван', 'Алексей', 'Анна', 'Петр']\n",
      "После изменения  ['Иван', 'Кирилл', 'Анна', 'Петр']\n"
     ]
    }
   ]
  },
  {
   "cell_type": "markdown",
   "source": [
    "### Задание\n",
    "\n"
   ],
   "metadata": {
    "id": "KXs4fRqxyYMp"
   }
  },
  {
   "cell_type": "code",
   "source": [
    "names =  [\"Иван\", \"Алексей\", \"Анна\", \"Петр\"]\n",
    "# TODO: поменяйте первый и последний элемент списка местами\n",
    "...\n",
    "print(names)"
   ],
   "metadata": {
    "id": "m5l65eWJyhKP"
   },
   "execution_count": null,
   "outputs": []
  },
  {
   "cell_type": "markdown",
   "source": [
    "## Срезы"
   ],
   "metadata": {
    "id": "4xM5j9nau0dZ"
   }
  },
  {
   "cell_type": "markdown",
   "source": [
    "К спискам, как и к строкам, можно применять срезы. \\\n",
    "Срез возвращает новый список из элементов исходного."
   ],
   "metadata": {
    "id": "infvxcyVvahO"
   }
  },
  {
   "cell_type": "code",
   "source": [
    "# index:   0  1  2  3  4  5  6\n",
    "numbers = [3, 4, 6, 8, 0, 5, 7]\n",
    "\n",
    "print(\"numbers[2:5] -->\", numbers[2:5])"
   ],
   "metadata": {
    "colab": {
     "base_uri": "https://localhost:8080/"
    },
    "id": "MCMCDAlyvZ_o",
    "executionInfo": {
     "status": "ok",
     "timestamp": 1656714546509,
     "user_tz": -180,
     "elapsed": 236,
     "user": {
      "displayName": "Евгений Юрченко",
      "userId": "04330354856914409701"
     }
    },
    "outputId": "358c997d-71e9-4b40-f495-9033d5eacded"
   },
   "execution_count": null,
   "outputs": [
    {
     "output_type": "stream",
     "name": "stdout",
     "text": [
      "numbers[2:5] --> [6, 8, 0]\n"
     ]
    }
   ]
  },
  {
   "cell_type": "markdown",
   "source": [
    "Как и со строками, можно применять шаг среза и опускать начальный или конечный индекс среза"
   ],
   "metadata": {
    "id": "p_UVHwSwwbaa"
   }
  },
  {
   "cell_type": "code",
   "source": [
    "numbers = [3, 4, 6, 8, 0, 5, 7]\n",
    "\n",
    "print(\"numbers[:6:2] -->\", numbers[:6:2])  # Срез от начала до элемента с индексом 6 с шагом 2"
   ],
   "metadata": {
    "colab": {
     "base_uri": "https://localhost:8080/"
    },
    "id": "xEfoFIgdwbK1",
    "executionInfo": {
     "status": "ok",
     "timestamp": 1656714548844,
     "user_tz": -180,
     "elapsed": 207,
     "user": {
      "displayName": "Евгений Юрченко",
      "userId": "04330354856914409701"
     }
    },
    "outputId": "aa45c5dc-c737-49be-837d-3c4118ec7e4d"
   },
   "execution_count": null,
   "outputs": [
    {
     "output_type": "stream",
     "name": "stdout",
     "text": [
      "numbers[:6:2] --> [3, 6, 0]\n"
     ]
    }
   ]
  },
  {
   "cell_type": "markdown",
   "source": [
    "### Задание"
   ],
   "metadata": {
    "id": "1bOostXly_YR"
   }
  },
  {
   "cell_type": "code",
   "source": [
    "numbers = [3, 4, 6, 8]\n",
    "# TODO: Использовав операцию среза, получите новый список без первого и последнего элементов исходного\n"
   ],
   "metadata": {
    "id": "_oXPlmOzzCQX",
    "executionInfo": {
     "status": "ok",
     "timestamp": 1664977961837,
     "user_tz": -180,
     "elapsed": 10,
     "user": {
      "displayName": "Евгений Юрченко",
      "userId": "04330354856914409701"
     }
    }
   },
   "execution_count": 1,
   "outputs": []
  },
  {
   "cell_type": "markdown",
   "source": [
    "### Задание"
   ],
   "metadata": {
    "id": "7E7L3ziuzgTT"
   }
  },
  {
   "cell_type": "code",
   "source": [
    "numbers = [3, 4, 6, 8, 0, 5, 7]\n",
    "# TODO: Использовав операцию среза, получите новый список из первой половины исходного\n",
    "# Пояснение: если количество нечетное, берем меньшую половину(при длине 5, берем первые 2)\n"
   ],
   "metadata": {
    "id": "JZLI0-ckzjJG"
   },
   "execution_count": null,
   "outputs": []
  },
  {
   "cell_type": "markdown",
   "source": [
    "## Конкатенация и мультипликация"
   ],
   "metadata": {
    "id": "kXuBjXmOw-8s"
   }
  },
  {
   "cell_type": "markdown",
   "source": [
    "Списки можно складывать, используя операцию + и дублировать, используя операцию *. Все как со строками"
   ],
   "metadata": {
    "id": "XhsI3siDxGsS"
   }
  },
  {
   "cell_type": "code",
   "source": [
    "names =  [\"Иван\", \"Алексей\", \"Анна\", \"Петр\"]\n",
    "salaries = [54000, 67500, 45600]\n",
    "\n",
    "common_list = names + salaries\n",
    "print(f\"common_list = {common_list}\")\n",
    "\n",
    "many_names = names * 3\n",
    "print(f\"many_names = {many_names}\")"
   ],
   "metadata": {
    "colab": {
     "base_uri": "https://localhost:8080/"
    },
    "id": "WatJ1J3Bn4zK",
    "executionInfo": {
     "status": "ok",
     "timestamp": 1656714570106,
     "user_tz": -180,
     "elapsed": 221,
     "user": {
      "displayName": "Евгений Юрченко",
      "userId": "04330354856914409701"
     }
    },
    "outputId": "e3d2c97e-88ac-484c-ade2-7aac0e6350b4"
   },
   "execution_count": null,
   "outputs": [
    {
     "output_type": "stream",
     "name": "stdout",
     "text": [
      "common_list = ['Иван', 'Алексей', 'Анна', 'Петр', 54000, 67500, 45600]\n",
      "many_names = ['Иван', 'Алексей', 'Анна', 'Петр', 'Иван', 'Алексей', 'Анна', 'Петр', 'Иван', 'Алексей', 'Анна', 'Петр']\n"
     ]
    }
   ]
  },
  {
   "cell_type": "markdown",
   "source": [
    "## Операция вхождения in"
   ],
   "metadata": {
    "id": "oyc8JOFH1euD"
   }
  },
  {
   "cell_type": "markdown",
   "source": [
    "Операция in отлично подходит, если вы хотите проверить наличие определенного элемента в списке"
   ],
   "metadata": {
    "id": "MSmSUvAV1k9p"
   }
  },
  {
   "cell_type": "code",
   "source": [
    "names =  [\"Иван\", \"Алексей\", \"Анна\", \"Петр\"]\n",
    "print(\"Анна\" in names) # Анна есть в списке\n",
    "print(\"Ольга\" in names) # Ольги нет в списке"
   ],
   "metadata": {
    "colab": {
     "base_uri": "https://localhost:8080/"
    },
    "id": "k62NWhK71kSv",
    "executionInfo": {
     "status": "ok",
     "timestamp": 1656714572756,
     "user_tz": -180,
     "elapsed": 218,
     "user": {
      "displayName": "Евгений Юрченко",
      "userId": "04330354856914409701"
     }
    },
    "outputId": "3538c383-e1a5-49fc-83b6-b4f5811323c1"
   },
   "execution_count": null,
   "outputs": [
    {
     "output_type": "stream",
     "name": "stdout",
     "text": [
      "True\n",
      "False\n"
     ]
    }
   ]
  },
  {
   "cell_type": "markdown",
   "source": [
    "### Задание"
   ],
   "metadata": {
    "id": "Mj_auMru2Imn"
   }
  },
  {
   "cell_type": "code",
   "source": [
    "fruits = [\"яблоко\", \"банан\", \"апельсин\", \"арбуз\", \"киви\"]\n",
    "fruit1 = \"яблоко\"\n",
    "fruit2 = \"кокос\"\n",
    "# TODO: проверьте, есть ли в списке fruits фрукты fruit1 и fruit2\n",
    "#  если есть, выведите \"ДА\", или \"НЕТ\" в случае отсутствия любого.\n"
   ],
   "metadata": {
    "id": "-MmWyavo2SC7"
   },
   "execution_count": null,
   "outputs": []
  },
  {
   "cell_type": "markdown",
   "source": [
    "## Методы списков"
   ],
   "metadata": {
    "id": "ZNgypMQF2_gO"
   }
  },
  {
   "cell_type": "markdown",
   "source": [
    "Большинство операций со списками выполняются с помощью методов.\n",
    "\n",
    "Полный список методов можно найти, например, [тут](https://pythonworld.ru/tipy-dannyx-v-python/spiski-list-funkcii-i-metody-spiskov.html) или [тут](https://letpy.com/handbook/list-methods/)."
   ],
   "metadata": {
    "id": "lKcbb-6I3EjP"
   }
  },
  {
   "cell_type": "markdown",
   "source": [
    "Метод .append() - позволяет добавить новое значение в конец списка"
   ],
   "metadata": {
    "id": "2-DgB6Oi4mpc"
   }
  },
  {
   "cell_type": "code",
   "source": [
    "names =  [\"Иван\", \"Алексей\", \"Анна\", \"Петр\"]\n",
    "print(\"До добавления \\t \", names)\n",
    "names.append(\"Ольга\")\n",
    "print(\"После добавления \", names)\n"
   ],
   "metadata": {
    "colab": {
     "base_uri": "https://localhost:8080/"
    },
    "id": "wybnUBRk4hJ9",
    "executionInfo": {
     "status": "ok",
     "timestamp": 1656714585856,
     "user_tz": -180,
     "elapsed": 207,
     "user": {
      "displayName": "Евгений Юрченко",
      "userId": "04330354856914409701"
     }
    },
    "outputId": "1f2ee979-c038-4dbe-aade-438fb84ddf07"
   },
   "execution_count": null,
   "outputs": [
    {
     "output_type": "stream",
     "name": "stdout",
     "text": [
      "До добавления \t  ['Иван', 'Алексей', 'Анна', 'Петр']\n",
      "После добавления  ['Иван', 'Алексей', 'Анна', 'Петр', 'Ольга']\n"
     ]
    }
   ]
  }
 ]
}
